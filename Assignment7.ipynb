{
 "cells": [
  {
   "cell_type": "code",
   "execution_count": null,
   "metadata": {},
   "outputs": [],
   "source": [
    "#Q1. In object-oriented programming (OOP), a class is a blueprint or template for creating objects, which are instances of the class. A class defines the properties (attributes) and behaviors (methods) that objects of that class possess. It acts as a container for data and functions that operate on that data.\n",
    "'''\n",
    "An object, on the other hand, is an instance of a class. It represents a specific occurrence of the class and can interact with other objects and the system. Objects have their own unique set of data and can execute the methods defined in the class.\n",
    "\n",
    "Example:\n",
    "Let's consider a class called \"Car.\" The Car class can have attributes such as color, brand, model, and methods like start(), stop(), accelerate(), and brake(). Each car object created from this class will have its own set of values for these attributes and can perform the defined methods.'''\n",
    "class Car:\n",
    "    def __init__(self, color, brand, model):\n",
    "        self.color = color\n",
    "        self.brand = brand\n",
    "        self.model = model\n",
    "    \n",
    "    def start(self):\n",
    "        print(\"The car has started.\")\n",
    "    \n",
    "    def stop(self):\n",
    "        print(\"The car has stopped.\")\n",
    "    \n",
    "    def accelerate(self):\n",
    "        print(\"The car is accelerating.\")\n",
    "    \n",
    "    def brake(self):\n",
    "        print(\"The car is braking.\")\n",
    "\n",
    "my_car = Car(\"Red\", \"Toyota\", \"Camry\")\n",
    "my_car.start()      # Output: The car has started.\n",
    "my_car.accelerate() # Output: The car is accelerating.\n"
   ]
  },
  {
   "cell_type": "code",
   "execution_count": null,
   "metadata": {},
   "outputs": [],
   "source": [
    "# Q2\n",
    "'''The four pillars of OOP are encapsulation, abstraction, inheritance, and polymorphism'''"
   ]
  },
  {
   "cell_type": "code",
   "execution_count": null,
   "metadata": {},
   "outputs": [],
   "source": [
    "# Q3\n",
    "'''The __init__() function is a special method in Python classes that is automatically called when an object is created from the class. It is used to initialize the attributes of the object with the provided values. The __init__() method is also known as the constructor.\n",
    "'''\n",
    "class Person:\n",
    "    def __init__(self, name, age):\n",
    "        self.name = name\n",
    "        self.age = age\n",
    "\n",
    "person1 = Person(\"John\", 25)\n",
    "print(person1.name)  # Output: John\n",
    "print(person1.age)   # Output: 25\n"
   ]
  },
  {
   "cell_type": "code",
   "execution_count": null,
   "metadata": {},
   "outputs": [],
   "source": [
    "# Q4\n",
    "''''In object-oriented programming, self is used as the first parameter in method definitions within a class. It represents the instance of the class and allows accessing the attributes and methods of that instance.\n",
    "\n",
    "By convention, self is used as the name for the first parameter, although any valid variable name can be used. When a method is called on an object, the object itself is automatically passed as the first argument to the method, which is why the parameter is named self.\n",
    "\n",
    "Using self, we can refer to the attributes and methods of the current instance of the class. It enables proper encapsulation and ensures that the correct instance's data is accessed and manipulated within the class methods.'''"
   ]
  },
  {
   "cell_type": "code",
   "execution_count": null,
   "metadata": {},
   "outputs": [],
   "source": [
    "# Q5\n",
    "'''nheritance is a fundamental concept in object-oriented programming that allows a class to inherit properties and behaviors from another class. The class that inherits is\n",
    " called a subclass or derived class, and the class from which it inherits is called a superclass or base class.'''\n",
    " # Single Inheritance\n",
    "\n"
   ]
  },
  {
   "cell_type": "code",
   "execution_count": null,
   "metadata": {},
   "outputs": [],
   "source": [
    "class Animal:\n",
    "    def eat(self):\n",
    "        print(\"Animal is eating.\")\n",
    "\n",
    "class Dog(Animal):\n",
    "    def bark(self):\n",
    "        print(\"Dog is barking.\")\n",
    "\n",
    "my_dog = Dog()\n",
    "my_dog.eat()  # Output: Animal is eating.\n",
    "my_dog.bark() # Output: Dog is barking.\n"
   ]
  },
  {
   "cell_type": "code",
   "execution_count": null,
   "metadata": {},
   "outputs": [],
   "source": [
    "# Multiple Inheritance\n",
    "class Car:\n",
    "    def drive(self):\n",
    "        print(\"Car is being driven.\")\n",
    "\n",
    "class Boat:\n",
    "    def sail(self):\n",
    "        print(\"Boat is sailing.\")\n",
    "\n",
    "class AmphibiousVehicle(Car, Boat):\n",
    "    pass\n",
    "\n",
    "amphibious_vehicle = AmphibiousVehicle()\n",
    "amphibious_vehicle.drive() # Output: Car is being driven.\n",
    "amphibious_vehicle.sail()  # Output: Boat is sailing.\n"
   ]
  },
  {
   "cell_type": "code",
   "execution_count": null,
   "metadata": {},
   "outputs": [],
   "source": [
    "# Multilevel Inheritance\n",
    "class Animal:\n",
    "    def eat(self):\n",
    "        print(\"Animal is eating.\")\n",
    "        \n",
    "class Dog(Animal):\n",
    "    def bark(self):\n",
    "        print(\"Dog is barking.\")\n",
    "\n",
    "class BabyDog(Dog):\n",
    "    def weep(self):\n",
    "        print(\"Baby dog is weeping.\")\n",
    "\n",
    "my_dog = BabyDog()\n",
    "my_dog.eat()  # Output: Animal is eating.\n",
    "my_dog.bark() # Output: Dog is barking.\n",
    "my_dog.weep() # Output: Baby dog is weeping.\n",
    "\n"
   ]
  }
 ],
 "metadata": {
  "language_info": {
   "name": "python"
  },
  "orig_nbformat": 4
 },
 "nbformat": 4,
 "nbformat_minor": 2
}
